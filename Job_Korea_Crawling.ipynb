{
  "cells": [
    {
      "cell_type": "markdown",
      "metadata": {
        "id": "view-in-github",
        "colab_type": "text"
      },
      "source": [
        "<a href=\"https://colab.research.google.com/github/kjg331/Analyze_Korean_comment/blob/main/Job_Korea_Crawling.ipynb\" target=\"_parent\"><img src=\"https://colab.research.google.com/assets/colab-badge.svg\" alt=\"Open In Colab\"/></a>"
      ]
    },
    {
      "cell_type": "code",
      "execution_count": null,
      "id": "f26cceef-2d65-4aa8-bc17-0130ec707ec4",
      "metadata": {
        "tags": [],
        "id": "f26cceef-2d65-4aa8-bc17-0130ec707ec4"
      },
      "outputs": [],
      "source": [
        "from selenium import webdriver\n",
        "from selenium.webdriver.common.by import By\n",
        "\n",
        "import warnings\n",
        "warnings.filterwarnings(action='ignore')\n",
        "\n",
        "import pandas as pd"
      ]
    },
    {
      "cell_type": "code",
      "execution_count": null,
      "id": "ee60e263-a334-4bf0-a969-dc55f699645c",
      "metadata": {
        "tags": [],
        "id": "ee60e263-a334-4bf0-a969-dc55f699645c"
      },
      "outputs": [],
      "source": [
        "driver = webdriver.Chrome(\"./chromedriver.exe\")"
      ]
    },
    {
      "cell_type": "code",
      "execution_count": null,
      "id": "0221cd0a-749c-4c80-a241-176263dbe8d4",
      "metadata": {
        "tags": [],
        "id": "0221cd0a-749c-4c80-a241-176263dbe8d4"
      },
      "outputs": [],
      "source": [
        "def login(driver):\n",
        "\n",
        "    driver.get(\"https://www.jobkorea.co.kr/\")\n",
        "\n",
        "    # 로그인 페이지로 이동\n",
        "    driver.find_element(By.XPATH, '//*[@id=\"devMyPage\"]/ul/li[1]/a').click()\n",
        "    # 아이디와 비밀번호 입력\n",
        "    driver.find_element(By.ID, \"M_ID\").send_keys(\"Your ID\")\n",
        "    driver.find_element(By.ID, \"M_PWD\").send_keys(\"Your PW\")\n",
        "    # 로그인 버튼 클릭\n",
        "    driver.find_element(By.XPATH, '/html/body/div[1]/div[1]/div[2]/div[1]/form/fieldset/section[3]/button').click()\n",
        "\n",
        "# a ~ b page의 url\n",
        "def get_url(a, b):\n",
        "    driver = webdriver.Chrome(\"./chromedriver.exe\")\n",
        "    driver.get(\"https://www.jobkorea.co.kr/\")\n",
        "    #login(driver)\n",
        "\n",
        "    # 자기소개서 창\n",
        "    driver.find_element(By.XPATH, '/html/body/div[2]/div/div[2]/div[1]/div/ul[1]/li[6]/a/span').click()\n",
        "    driver.get(\"https://www.jobkorea.co.kr/starter/passassay\")\n",
        "    driver.maximize_window()\n",
        "    driver.implicitly_wait(3)\n",
        "    driver.find_element(By.XPATH, '/html/body/div[5]/div/button').click()\n",
        "\n",
        "    # 30대그룹, 매출1000대, 대기업, 공공기관, 외국계 자소서 클릭\n",
        "    for i in range(1, 6):\n",
        "            driver.find_element(By.XPATH, f\"/html/body/div[4]/div[2]/div[2]/div[2]/div/div[1]/div/dl[5]/dd/div/div[1]/div/ul[1]/li[{i}]/label/i\").click()\n",
        "    # 중견기업 자소서 클릭\n",
        "    driver.find_element(By.XPATH, f\"/html/body/div[4]/div[2]/div[2]/div[2]/div/div[1]/div/dl[5]/dd/div/div[1]/div/ul[2]/li[1]/label/i\").click()\n",
        "\n",
        "    # 필터 적용\n",
        "    driver.find_element(By.XPATH, '//*[@id=\"container\"]/div[2]/div[2]/div/div[2]/button').click()\n",
        "\n",
        "    # 전문가 분석 필터\n",
        "    driver.find_element(By.XPATH,'/html/body/div[4]/div[2]/div[2]/div[5]/div[1]/form/fieldset/div[1]/span[2]/label').click()\n",
        "\n",
        "    urls = []\n",
        "    for i in range(a, b):\n",
        "        try:\n",
        "            driver.get(f\"https://www.jobkorea.co.kr/starter/PassAssay?FavorCo_Stat=0&Pass_An_Stat=1&OrderBy=0&EduType=0&WorkType=0&schCType=11%2C12%2C13&isSaved=0&Page={i}\")\n",
        "            driver.implicitly_wait(2)\n",
        "            # url 추출하기\n",
        "            com_list = driver.find_element(By.XPATH,\"/html/body/div[4]/div[2]/div[2]/div[5]/ul\")\n",
        "            com_url = com_list.find_elements(By.TAG_NAME,'a') # 거기에서 a태그만 가져온다\n",
        "\n",
        "            for url in com_url:\n",
        "                if 'selfintroduction' in url.get_attribute('href'):\n",
        "                    pass\n",
        "                else:\n",
        "                    urls.append(url.get_attribute(\"href\"))\n",
        "                    print(f\"Page {i} is completed\")\n",
        "                    driver.implicitly_wait(3)\n",
        "        except:\n",
        "            print(f\"Page{i}has a error\")\n",
        "            pass\n",
        "    driver.close()\n",
        "\n",
        "    return list(set(urls))\n",
        "\n",
        "def get_content(url):\n",
        "    driver = webdriver.Chrome(\"./chromedriver.exe\")\n",
        "    login(driver)\n",
        "    driver.get(url)\n",
        "\n",
        "    # Position name\n",
        "    position_element = driver.find_element(By.XPATH, '/html/body/div[4]/div[2]/div[2]/div[1]/div[1]/h2/em')\n",
        "    position = position_element.text[13:]\n",
        "\n",
        "    # Question+Answer+Advcie\n",
        "    qna_list = driver.find_element(By.CLASS_NAME, 'qnaLists')\n",
        "\n",
        "    # Question\n",
        "    question_list = []\n",
        "    questions = qna_list.find_elements(By.TAG_NAME,'dt')\n",
        "\n",
        "    for index in questions:\n",
        "        question = index.find_element(By.CLASS_NAME,'tx')\n",
        "\n",
        "        #태그가 펼쳐지지 않아서 크롤링이 안되는 경우\n",
        "        if question.text==\"\":\n",
        "            index.find_element(By.TAG_NAME,'button').click()\n",
        "            question = index.find_element(By.CLASS_NAME,'tx')\n",
        "            question_list.append(question.text)\n",
        "\n",
        "        # 펼쳐져 있는 경우\n",
        "        else:\n",
        "            question_list.append(question.text)\n",
        "\n",
        "    driver.implicitly_wait(3)\n",
        "\n",
        "    # Answer\n",
        "    answer_list = []\n",
        "    answers = qna_list.find_elements(By.TAG_NAME,'dd')\n",
        "    driver.implicitly_wait(3)\n",
        "\n",
        "    for index in range(len(answers)):\n",
        "        answer = answers[index].find_element(By.CLASS_NAME,'tx')\n",
        "\n",
        "        if answer.text == \"\":\n",
        "            questions[index].find_element(By.TAG_NAME,'button').click()\n",
        "            answer=answers[index].find_element(By.CLASS_NAME,'tx')\n",
        "            answer_element = answer.text\n",
        "            idx = answer_element.find(\"글자수\")\n",
        "            answer_list.append(answer_element[:idx])\n",
        "        else:\n",
        "            answer_element = answer.text\n",
        "            idx = answer_element.find(\"글자수\")\n",
        "            answer_list.append(answer_element[:idx])\n",
        "\n",
        "    # Advice\n",
        "    advice_list = []\n",
        "    advices = answers # answers와 같은 Tag내에 있음\n",
        "    for index in range(len(advices)):\n",
        "        advice=advices[index].find_element(By.CLASS_NAME,'advice')\n",
        "\n",
        "        if advice.text == \"\":\n",
        "            questions[index].find_element(By.TAG_NAME,'button').click()\n",
        "            advice=advices[index].find_element(By.CLASS_NAME,'advice')\n",
        "            advice_list.append(advice.text)\n",
        "        else:\n",
        "            advice_list.append(advice.text)\n",
        "\n",
        "    content_df = pd.DataFrame({'position':position,\n",
        "                             'question':question_list,\n",
        "                             'answer':answer_list,\n",
        "                              'advice':advice_list})\n",
        "    return content_df"
      ]
    },
    {
      "cell_type": "code",
      "execution_count": null,
      "id": "ad58b879-2c59-4aa4-b74e-fdc74f4a7266",
      "metadata": {
        "tags": [],
        "id": "ad58b879-2c59-4aa4-b74e-fdc74f4a7266"
      },
      "outputs": [],
      "source": [
        "def question_prompot(position, question, answer):\n",
        "    prompt_template = \"\"\"### Question:\n",
        "    아래 {position}의 자기 소개서에 대해 평가해주세요.\n",
        "\n",
        "    {question}\n",
        "\n",
        "    {answer}\n",
        "\n",
        "    ### Answer:\"\"\"\n",
        "    return(prompt_template.format(position=position, question=question, answer=answer))"
      ]
    },
    {
      "cell_type": "code",
      "execution_count": null,
      "id": "91cc27f2-3bfa-4819-af95-0eebd743b3e5",
      "metadata": {
        "collapsed": true,
        "jupyter": {
          "outputs_hidden": true
        },
        "tags": [],
        "id": "91cc27f2-3bfa-4819-af95-0eebd743b3e5",
        "outputId": "f155d962-1144-4b29-ca90-4cc7abaaa1d2"
      },
      "outputs": [
        {
          "name": "stdout",
          "output_type": "stream",
          "text": [
            "Page135has a error\n",
            "Page 136 is completed\n",
            "Page 136 is completed\n",
            "Page 136 is completed\n",
            "Page 136 is completed\n",
            "Page 136 is completed\n",
            "Page 136 is completed\n",
            "Page 136 is completed\n",
            "Page 136 is completed\n",
            "Page 136 is completed\n",
            "Page 136 is completed\n",
            "Page 136 is completed\n",
            "Page 136 is completed\n",
            "Page 136 is completed\n",
            "Page 136 is completed\n",
            "Page 136 is completed\n",
            "Page 136 is completed\n",
            "Page 136 is completed\n",
            "Page 136 is completed\n",
            "Page 136 is completed\n",
            "Page 136 is completed\n",
            "Page 136 is completed\n",
            "Page 136 is completed\n",
            "Page 136 is completed\n",
            "Page 136 is completed\n",
            "Page 136 is completed\n",
            "Page 136 is completed\n",
            "Page 136 is completed\n",
            "Page 136 is completed\n",
            "Page 136 is completed\n",
            "Page 136 is completed\n",
            "Page 136 is completed\n",
            "Page 136 is completed\n",
            "Page 136 is completed\n",
            "Page 136 is completed\n",
            "Page 136 is completed\n",
            "Page 136 is completed\n",
            "Page 136 is completed\n",
            "Page 136 is completed\n",
            "Page 136 is completed\n",
            "Page 136 is completed\n",
            "Page 136 is completed\n",
            "Page 136 is completed\n",
            "Page 136 is completed\n",
            "Page 136 is completed\n",
            "Page 136 is completed\n",
            "Page 136 is completed\n",
            "Page 136 is completed\n",
            "Page 136 is completed\n",
            "Page 136 is completed\n",
            "Page 136 is completed\n",
            "Page 136 is completed\n",
            "Page 136 is completed\n",
            "Page 136 is completed\n",
            "Page 136 is completed\n",
            "Page 136 is completed\n",
            "Page 136 is completed\n",
            "Page 136 is completed\n",
            "Page 136 is completed\n",
            "Page 136 is completed\n",
            "Page 136 is completed\n",
            "Page 136 is completed\n",
            "Page 136 is completed\n",
            "Page 136 is completed\n",
            "Page 136 is completed\n",
            "Page 136 is completed\n",
            "Page 136 is completed\n",
            "Page 136 is completed\n",
            "Page 136 is completed\n",
            "Page 136 is completed\n",
            "Page 136 is completed\n",
            "Page 136 is completed\n",
            "Page 136 is completed\n",
            "Page 136 is completed\n",
            "Page 136 is completed\n",
            "Page 136 is completed\n",
            "Page 136 is completed\n",
            "Page 136 is completed\n",
            "Page 136 is completed\n",
            "Page 136 is completed\n",
            "Page 136 is completed\n",
            "Page 137 is completed\n",
            "Page 137 is completed\n",
            "Page 137 is completed\n",
            "Page 137 is completed\n",
            "Page 137 is completed\n",
            "Page 137 is completed\n",
            "Page 137 is completed\n",
            "Page 137 is completed\n",
            "Page 137 is completed\n",
            "Page 137 is completed\n",
            "Page 137 is completed\n",
            "Page 137 is completed\n",
            "Page 137 is completed\n",
            "Page 137 is completed\n",
            "Page 137 is completed\n",
            "Page 137 is completed\n",
            "Page 137 is completed\n",
            "Page 137 is completed\n",
            "Page 137 is completed\n",
            "Page 137 is completed\n",
            "Page 137 is completed\n",
            "Page 137 is completed\n",
            "Page 137 is completed\n",
            "Page 137 is completed\n",
            "Page 137 is completed\n",
            "Page 137 is completed\n",
            "Page 137 is completed\n",
            "Page 137 is completed\n",
            "Page 137 is completed\n",
            "Page 137 is completed\n",
            "Page 137 is completed\n",
            "Page 137 is completed\n",
            "Page 137 is completed\n",
            "Page 137 is completed\n",
            "Page 137 is completed\n",
            "Page 137 is completed\n",
            "Page 137 is completed\n",
            "Page 137 is completed\n",
            "Page 137 is completed\n",
            "Page 137 is completed\n",
            "Page 137 is completed\n",
            "Page 137 is completed\n",
            "Page 137 is completed\n",
            "Page 137 is completed\n",
            "Page 137 is completed\n",
            "Page 137 is completed\n",
            "Page 137 is completed\n",
            "Page 137 is completed\n",
            "Page 137 is completed\n",
            "Page 137 is completed\n",
            "Page 137 is completed\n",
            "Page 137 is completed\n",
            "Page 137 is completed\n",
            "Page 137 is completed\n",
            "Page 137 is completed\n",
            "Page 137 is completed\n",
            "Page 137 is completed\n",
            "Page 137 is completed\n",
            "Page 137 is completed\n",
            "Page 137 is completed\n",
            "Page 137 is completed\n",
            "Page 137 is completed\n",
            "Page 137 is completed\n",
            "Page 137 is completed\n",
            "Page 137 is completed\n",
            "Page 137 is completed\n",
            "Page 137 is completed\n",
            "Page 137 is completed\n",
            "Page 137 is completed\n",
            "Page 137 is completed\n",
            "Page 137 is completed\n",
            "Page 137 is completed\n"
          ]
        }
      ],
      "source": [
        "new_urls = get_url(135, 139)"
      ]
    },
    {
      "cell_type": "code",
      "execution_count": null,
      "id": "19a4c6bb-4aa8-4b68-bb73-b010945bddce",
      "metadata": {
        "tags": [],
        "id": "19a4c6bb-4aa8-4b68-bb73-b010945bddce"
      },
      "outputs": [],
      "source": [
        "pd.DataFrame({\"url\": urls}).to_csv(\"job_urls.csv\", header = False, index = False)"
      ]
    },
    {
      "cell_type": "code",
      "execution_count": null,
      "id": "beffdae3-552e-4b21-9bf9-598fd7e01ea3",
      "metadata": {
        "tags": [],
        "id": "beffdae3-552e-4b21-9bf9-598fd7e01ea3"
      },
      "outputs": [],
      "source": [
        "urls.to_csv(\"job_urls.csv\", header = False, index = False)"
      ]
    },
    {
      "cell_type": "code",
      "execution_count": null,
      "id": "e882f144-4cb1-4924-be4d-94af670aa0e4",
      "metadata": {
        "tags": [],
        "id": "e882f144-4cb1-4924-be4d-94af670aa0e4",
        "outputId": "af396547-30c7-4f8e-f127-2df89eab5b6b"
      },
      "outputs": [
        {
          "data": {
            "text/plain": [
              "'https://www.jobkorea.co.kr/starter/PassAssay/View/200641?Page=27&OrderBy=0&FavorCo_Stat=0&schCType=11%2C12%2C13&Pass_An_Stat=1'"
            ]
          },
          "execution_count": 90,
          "metadata": {},
          "output_type": "execute_result"
        }
      ],
      "source": [
        "urls[\"url\"][0]"
      ]
    },
    {
      "cell_type": "code",
      "execution_count": null,
      "id": "739eeebd-d60a-49fb-bc42-785e33bd1ec8",
      "metadata": {
        "tags": [],
        "id": "739eeebd-d60a-49fb-bc42-785e33bd1ec8"
      },
      "outputs": [],
      "source": [
        "position = get_content(urls[2])"
      ]
    },
    {
      "cell_type": "code",
      "execution_count": null,
      "id": "ae10d425-006e-45fd-8eb2-cd137fd622d3",
      "metadata": {
        "tags": [],
        "id": "ae10d425-006e-45fd-8eb2-cd137fd622d3",
        "outputId": "fd08e376-ce31-4351-a575-9b5aee85ac02"
      },
      "outputs": [
        {
          "data": {
            "text/plain": [
              "{'position': {0: '품질관리자', 1: '품질관리자', 2: '품질관리자', 3: '품질관리자'},\n",
              " 'question': {0: '삼성전자를 지원한 이유와 입사 후 회사에서 이루고 싶은 꿈을 기술하십시오.',\n",
              "  1: '본인의 성장과정을 간략히 기술하되 현재의 자신에게 가장 큰 영향을 끼친 사건, 인물 등을 포함하여 기술하시기 바랍니다. (※작품속 가상인물도 가능)',\n",
              "  2: '최근 사회이슈 중 중요하다고 생각되는 한가지를 선택하고 이에 관한 자신의 견해를 기술해 주시기 바랍니다.',\n",
              "  3: '지원한 직무 관련 본인이 갖고 있는 전문지식/경험(심화전공, 프로젝트, 논문, 공모전 등)을 작성하고, 이를 바탕으로 본인이 지원 직무에 적합한 사유를 구체적으로 서술해 주시기 바랍니다.'},\n",
              " 'answer': {0: '\"차세대 예지 보전 설비기술 도입\"\\n\\n21살 때, 삼성전자 화성캠퍼스 신설 현장에서 일하며 반도체 설비에 관한 관심을 키우게 되었습니다. 당시, 공장 내부 가스관 설치 현장에서 배관 시공을 간접적으로 경험하며 설비 유지 보수에 관심을 키우게 되었습니다. 아무리 완벽한 반도체 이론이 있더라도 원활한 설비 공급 없이는 제품을 구현할 수 없다는 점을 느꼈습니다. 삼성전자 반도체 연구소는 세계 최고의 기술을 연구하여 글로벌 메모리 반도체 1위 자리를 30년간 지켜내고 있습니다. 이런 설비기술의 선구자인 삼성전자에서 차세대 예지 보전 설비관리 특허보유라는 꿈을 이루고 싶습니다.좋은점 1\\n\\n먼저, 반도체 제조의 핵심인 단위공정 설비팀에서 근무하며 경험을 쌓고 싶습니다. 특히, 열역학적 지식이 필요한 산화 및 증착 공정 설비기술팀에서 근무하며 세계 최고의 전문가들로부터 설비 지식을 배우겠습니다. 또한, 삼성전자의 직무 심화 양성프로그램을 활용하여 설비 전문가로 성장하겠습니다. 이후 항상 현장에 관심을 두고 문제점을 파헤쳐 유지관리 프로세스를 개선하기 위해 노력하겠습니다. 특히, 차세대 예지 보전 기술도입을 통해 유지비용을 절감하고 예지 보전 분야 특허 확보를 위해 노력하겠습니다. 세계 유일 종합반도체 연구소의 선행개발 엔지니어라는 자부심을 쌓고 최첨단 설비 전문가로 성장하여 종합 반도체 부분 세계 1위 목표를 함께 이루고 싶습니다.좋은점 2\\n',\n",
              "  1: '\"시행착오를 통한 배움의 자세\"\\n\\n학부 2학년 때 CATIA 프로그램을 이용해 지게차를 모델링 하며 새로운 배움에 대한 두려움을 떨쳐낸 경험이 있습니다. 처음 접하는 설계 프로그램이었기에 결과물을 완성할 수 있을지에 대한 막연한 두려움이 있었습니다. 특히, 지게차 체인 조립 과정에서 한계를 느꼈습니다. 하지만 체인 설계 방법을 다양하게 바꿔보는 시도를 통해 해결할 수 있었습니다. 이를 통해 배움에 있어 고비는 반드시 찾아오지만, 시행착오를 통해 얼마든지 극복할 수 있다는 자신감을 얻었습니다.\\n\\n이러한 자신감은 이듬해 기업 과제 프로젝트 중, 팀원들이 도전하기 꺼리는 Android Studio 프로그램 학습을 자발적으로 맡은 계기가 되었습니다. 당시, 기업에서 제작 중인 호신용 애플리케이션 개선을 의뢰받았습니다. 다들 전공 분야가 아닌 프로그램을 배우기 꺼려했지만, 할 수 있다는 자신감을 가지고 프로그램을 배우기로 나섰습니다. 수많은 시행착오를 통해 위치전송 서비스를 구현과 소비자 친화적인 UI 구성을 완성했습니다. 그 결과, 기업에서 저희 팀의 결과물을 채택했고 프로젝트를 성공적으로 마칠 수 있었습니다. 이렇듯 입사 후에도 배움에 대한 자신감을 통해 설비기술 전문가로 성장할 수 있다고 확신합니다. 포기하지 않고 꾸준히 탐구하여 설비의 전문적인 지식을 갖추어 최적의 설비 운영을 이루겠습니다.아쉬운점 1\\n\\n\"창의력과 추진력을 통한 문제 해결 능력\"\\n\\n설비기술 엔지니어에겐 불합리한 현상에 지식을 융합하여 문제점을 개선하는 창의력이 필요하다고 생각합니다. 학부 과정 동안 경진대회 15번을 참가하며 문제 해결 능력을 키웠습니다. 특히 4학년 시절 창의력과 탐구 의지를 통해 전국 OOOO 경진대회에서 OOOOOOO장관상을 받은 경험이 있습니다.좋은점 1\\n\\n친형이 유모차를 밀고 오르막길을 올라오는 모습을 보며 기존 유모차의 한계를 느꼈습니다. 이것을 계기로, 학교에서 배운 PID 제어를 통하여 경사면에서도 일정한 속도를 유지하는 전동모터를 개발하게 되었습니다. 이는 기존의 전동 유모차보다 90% 저렴하면서 20kg 가볍다는 장점이 있었고, 자동 제동기능도 추가하여 기존 유모차의 한계를 뛰어넘었습니다.\\n\\n저의 아이디어를 중심으로 팀원 5명이 모여 교내 종합설계 경진대회에 출전했습니다. 새로운 시도 속에서 가능성을 만들어 내기 위해 모터 관련 자료들을 찾아보고, 전동킥보드를 구매하여 분해하고 비교해 보며 시제품을 제작했습니다. 결과물의 실용성과 완성도에서 좋은 평가를 받아 전국 종합설계 경진대회까지 출전하게 되었습니다. 이 대회에서도 우수함을 인정받아 산업통상자원부장관상을 받았습니다. 이렇게 창의적인 아이디어를 통해 문제점을 해결하고 결과물을 인정받는 과정에서 느낀 보람은 잊을 수가 없었습니다. 이는 직무를 선택하는 데 중요한 요인으로 작용했습니다.\\n\\n설비기술 직무를 수행하기 위해서는 항상 현장에 관심을 두고 사소한 문제라도 소홀히 하지 않는 자세가 필요합니다. 창의력과 탐구 의지를 통해 삼성전자에서 설비 문제를 예방하고 개선하는 데 이바지하겠습니다.아쉬운점 2\\n',\n",
              "  2: '\"클라우드 환경 변화를 넘어 AI 시대로의 패러다임 전략\"\\n\\nCOVID 19으로 인한 비대면 생활양식 보급은 클라우드 서비스 시대를 앞당겼습니다. 이는 구글, 마이크로소프트, 아마존과 같은 대형 클라우드 기업의 데이터센터 투자 확대를 이끌었습니다. 또한, ARM을 인수한 엔비디아와 자일링스를 인수한 AMD의 모습은 클라우드 시대로 변화가 시작되었음을 보여준다고 생각합니다.\\n\\n클라우드 서비스는 앞으로 생활 속에 녹아들 것입니다. 쇼핑, 은행, 게임 등 지금 사용하고 있는 애플리케이션을 다운로드 없이 원할 때마다 이용하고, 개인 소유 저장공간은 최소화될 것입니다. 이는 클라우드 서비스 기업의 서버용 DRAM 수요 증가로 이어질 것입니다. 2021년, 인텔의 새로운 서버용 프로세서 출시와 맞물려 삼성전자의 안정적인 DDR5 메모리 공급이 이루어진다면 경쟁사와 격차를 확대하는 시기가 될 것입니다. 지금까지 보여준 삼성전자의 미래 대응 능력과 안정적인 메모리 공급 능력을 통해 메모리 반도체 시장 1위 자리를 지켜낼 수 있을 것입니다.\\n\\n더 나아가, 인간의 역할을 대신하는 AI 반도체 시대가 오면 클라우드 시대의 수요증가와 비교도 안 될 정도로 수요가 늘어날 것입니다. 삼성전자도 반도체 비전 2030이라는 계획으로 NPU 개발을 비롯하여 시스템 반도체 글로벌 1위 달성을 목표하고 있습니다. 삼성전자는 다른 반도체 회사들과 달리 생활가전과 스마트폰과 같은 전자업계에서도 세계 최고의 기술력을 가지고 있습니다. 따라서 이 강점을 활용하여 앞으로 다양한 분야에 다양한 방법으로 인공지능 기술을 접목한다면 미래 시장을 선도하는 인공지능 칩을 개발할 수 있을 것으로 생각합니다. 이렇게 삼성전자만의 강점을 살려 패러다임 전환기에 대응한다면 종합 반도체 글로벌 1위를 넘어 일류 선도 기업으로 성장할 것으로 생각합니다.아쉬운점 1\\n',\n",
              "  3: '\"유체와 열에 대한 이해도\"\\n\\n설비의 유지보수를 위해선 유체와 열에 대한 이해도가 필수적입니다. OOOO공학을 전공하며 유체역학, 항공역학 등의 학습을 통해 유체에 대한 이해도를 높였습니다. 더 나아가 졸업 프로젝트로 지금까지 배운 이론을 적용한 공력 해석 프로그램을 개발했습니다. 결과적으로 유의미한 시뮬레이션 프로그램임을 인정받아 A+학점을 받았습니다. 한발 나아가, 현재 일반기계기사와 공조냉동기계기사 자격증 취득 중입니다. 열역학의 기본 이론부터 냉동이론 등을 학습했습니다. 이를 통해 설비 부하율을 관리하고 유지관리 프로세스를 개선하는 역할에 필요한 역량을 키웠습니다. 이렇게 관심 분야에 대한 끊임없는 학습 의지를 바탕으로 삼성전자 반도체 연구소 설비기술 전문가로 지속 성장하겠습니다.좋은점 1\\n\\n\"가능성을 만들기 위한 도전\"\\n\\n불가능해 보이는 목표라도 끊임없이 도전한다면 가능성을 만든다고 생각합니다. 3학년 시절 해체 직전 동아리를 교내 인기 동아리로 성장시킨 경험이 있습니다. 발명 동아리 OOOO에는 신입 부원의 90%가 탈퇴하는 문제가 있었습니다. 이를 극복하고자 동아리 회장으로 출마해 동아리원 100명 이상 유지라는 목표를 세웠습니다. 먼저 신입생 대상 설계 교육을 했습니다. 교육에 열정을 보인 결과 참여한 동아리원들은 설계 프로그램을 능숙하게 다루게 되었습니다. 다음으로 학습한 설계 프로그램을 응용할 수 있는 해커톤을 기획했습니다. 여러 기관과 연락 끝에 OO OOOO으로부터 지원을 받아 스마트시티 해커톤을 개최할 수 있었습니다. 이러한 목표를 향한 끊임없는 도전은 160명이 넘는 대규모 인기 동아리로 성장하는 성공을 이끌었습니다.아쉬운점 1\\n\\n삼성전자 반도체 연구소는 세계 최고의, 세계 최초의 기술을 다루는 곳인 만큼 더 높은 성장 목표와 새로운 도전의식을 지닌 사람이 필요하다 생각합니다. 발전을 위해 끊임없이 도전하는 자세를 통해 삼성전자의 무한한 가능성을 만들겠습니다.\\n'},\n",
              " 'advice': {0: '좋은점 1 어떻게 이 회사에서 일을 하게 되었는지에 대한 구체적인 설명은 없지만 지원 회사에서 일을 하면서 느낀 점과 그 내용을 바탕으로 지원동기를 작성한 점이 좋습니다.\\n좋은점 2 이루고 싶은 꿈을 구체적으로 제시한 점이 좋고 지원동기에 일관되어 있다는 점도 좋습니다.',\n",
              "  1: '아쉬운점 1 질문의 요구사항에 맞지 않은 시작이고 내용도 그다지 호감을 주지 못하고 있습니다. 본 항목은 성장과정을 쓰는 항목입니다. 그리고 그 내용 중에 자신에게 가장 큰 영향을 끼친 사건, 인물이 포함되어야 합니다. 그런데, 이 내용은 이 두가지 모두에 해당되는 내용이 아닙니다. 대학시절 경험을 쓰는 것이 문제가 아니라 질문에서 요구한 사항을 쓰지 않았다는 것이 문제입니다. 이 내용을 활용하고 싶다면 이 내용 앞에 성장과정에 대한 내용을 제시해야 합니다.\\n좋은점 1 공신력 있는 수상 경험을 활용한 점이 좋습니다.\\n아쉬운점 2 내용이 구구절절 합니다. 이 사례를 이렇게 길게 쓸 필요가 없습니다. 핵심 위주로 내용을 정리하고 어떤 지식과 능력을 배웠는지를 간략하게 제시하고 마무리를 하면 됩니다. 그리고 나머지는 다른 사례를 제시하며 지원자의 창의력 문제해결능력에 공감을 가질 수 있게 해야 합니다.',\n",
              "  2: '아쉬운점 1 크게 문제가 되는 부분이 있는 것은 아닙니다. 하지만 이슈의 소재가 아쉽습니다. 지원자는 설비기술 분야로 지원하고 있는데, 이슈는 클라우드 서비스와 시장에 대해 이야기하고 있습니다. 클라우드 서비스는 IT직과 연관이 있고, 시장 이야기는 경영, 영업, 마케팅과 직접적으로 연관이 있습니다. 물론 클라우드 서비스를 생산현장의 이슈와 연결한다면 문제가 되지 않습니다. 시장이야기를 생산 현장의 생산성과 연결 지었다면 그것도 문제가 되지 않습니다. 하지만 지원자는 그러지 않고 순수한 클라우드 서비스와 시장 상황을 이야기하고 있습니다. 앞서 말한 것처럼 이렇게 쓴 것이 문제가 되지는 않지만 지원자가 지원분야와 직접적으로 연관이 있는 내용으로 이 부분을 채웠으면 더 좋았을 것이라는 생각이 들었습니다.',\n",
              "  3: '좋은점 1 직무와 연관이 있는 지식과 그와 관련한 자신의 노력을 제시한 점이 좋습니다. 다만, 지원자만의 특별한 능력은 아니라는 점이 아쉽습니다.\\n아쉬운점 1 도전적 특성이 중요한 것은 맞습니다. 하지만 이 항목은 질문의 심화전공, 프로젝트, 논문, 공모전 등 이라는 표현에서 느낄 수 있듯이 직접적인 기술적 지식이나 전공 능력을 활용한 경험을 원하고 있습니다. 제시한 개인 특성이나 태도가 강조되기 보다는 지식, 기술력, 경험을 통해 쌓은 능력 등을 제시하는 것이 좋다는 것입니다.'}}"
            ]
          },
          "execution_count": 207,
          "metadata": {},
          "output_type": "execute_result"
        }
      ],
      "source": [
        "examples = position.to_dict()\n",
        "examples"
      ]
    },
    {
      "cell_type": "code",
      "execution_count": null,
      "id": "0bd8c3d0-e13c-4052-89b9-bd91a627b91f",
      "metadata": {
        "tags": [],
        "id": "0bd8c3d0-e13c-4052-89b9-bd91a627b91f"
      },
      "outputs": [],
      "source": [
        "dataset = []\n",
        "for i in range(len(examples)):\n",
        "    question = question_prompot(examples['position'][i], examples['question'][i], examples['answer'][i])\n",
        "    answer = examples['advice'][i]\n",
        "    dataset.append({\"question\":question, \"answer\":answer})"
      ]
    },
    {
      "cell_type": "code",
      "execution_count": null,
      "id": "2580c5f1-cc1f-4c80-9e5d-f66951d3bf1f",
      "metadata": {
        "tags": [],
        "id": "2580c5f1-cc1f-4c80-9e5d-f66951d3bf1f",
        "outputId": "bcd0b23b-a1eb-4527-ea67-fe720443fa7c"
      },
      "outputs": [
        {
          "data": {
            "text/plain": [
              "{'question': '### Question:\\n    아래 품질관리자의 자기 소개서에 대해 평가해주세요.\\n\\n    본인의 성장과정을 간략히 기술하되 현재의 자신에게 가장 큰 영향을 끼친 사건, 인물 등을 포함하여 기술하시기 바랍니다. (※작품속 가상인물도 가능)\\n    \\n    \"시행착오를 통한 배움의 자세\"\\n\\n학부 2학년 때 CATIA 프로그램을 이용해 지게차를 모델링 하며 새로운 배움에 대한 두려움을 떨쳐낸 경험이 있습니다. 처음 접하는 설계 프로그램이었기에 결과물을 완성할 수 있을지에 대한 막연한 두려움이 있었습니다. 특히, 지게차 체인 조립 과정에서 한계를 느꼈습니다. 하지만 체인 설계 방법을 다양하게 바꿔보는 시도를 통해 해결할 수 있었습니다. 이를 통해 배움에 있어 고비는 반드시 찾아오지만, 시행착오를 통해 얼마든지 극복할 수 있다는 자신감을 얻었습니다.\\n\\n이러한 자신감은 이듬해 기업 과제 프로젝트 중, 팀원들이 도전하기 꺼리는 Android Studio 프로그램 학습을 자발적으로 맡은 계기가 되었습니다. 당시, 기업에서 제작 중인 호신용 애플리케이션 개선을 의뢰받았습니다. 다들 전공 분야가 아닌 프로그램을 배우기 꺼려했지만, 할 수 있다는 자신감을 가지고 프로그램을 배우기로 나섰습니다. 수많은 시행착오를 통해 위치전송 서비스를 구현과 소비자 친화적인 UI 구성을 완성했습니다. 그 결과, 기업에서 저희 팀의 결과물을 채택했고 프로젝트를 성공적으로 마칠 수 있었습니다. 이렇듯 입사 후에도 배움에 대한 자신감을 통해 설비기술 전문가로 성장할 수 있다고 확신합니다. 포기하지 않고 꾸준히 탐구하여 설비의 전문적인 지식을 갖추어 최적의 설비 운영을 이루겠습니다.아쉬운점 1\\n\\n\"창의력과 추진력을 통한 문제 해결 능력\"\\n\\n설비기술 엔지니어에겐 불합리한 현상에 지식을 융합하여 문제점을 개선하는 창의력이 필요하다고 생각합니다. 학부 과정 동안 경진대회 15번을 참가하며 문제 해결 능력을 키웠습니다. 특히 4학년 시절 창의력과 탐구 의지를 통해 전국 OOOO 경진대회에서 OOOOOOO장관상을 받은 경험이 있습니다.좋은점 1\\n\\n친형이 유모차를 밀고 오르막길을 올라오는 모습을 보며 기존 유모차의 한계를 느꼈습니다. 이것을 계기로, 학교에서 배운 PID 제어를 통하여 경사면에서도 일정한 속도를 유지하는 전동모터를 개발하게 되었습니다. 이는 기존의 전동 유모차보다 90% 저렴하면서 20kg 가볍다는 장점이 있었고, 자동 제동기능도 추가하여 기존 유모차의 한계를 뛰어넘었습니다.\\n\\n저의 아이디어를 중심으로 팀원 5명이 모여 교내 종합설계 경진대회에 출전했습니다. 새로운 시도 속에서 가능성을 만들어 내기 위해 모터 관련 자료들을 찾아보고, 전동킥보드를 구매하여 분해하고 비교해 보며 시제품을 제작했습니다. 결과물의 실용성과 완성도에서 좋은 평가를 받아 전국 종합설계 경진대회까지 출전하게 되었습니다. 이 대회에서도 우수함을 인정받아 산업통상자원부장관상을 받았습니다. 이렇게 창의적인 아이디어를 통해 문제점을 해결하고 결과물을 인정받는 과정에서 느낀 보람은 잊을 수가 없었습니다. 이는 직무를 선택하는 데 중요한 요인으로 작용했습니다.\\n\\n설비기술 직무를 수행하기 위해서는 항상 현장에 관심을 두고 사소한 문제라도 소홀히 하지 않는 자세가 필요합니다. 창의력과 탐구 의지를 통해 삼성전자에서 설비 문제를 예방하고 개선하는 데 이바지하겠습니다.아쉬운점 2\\n\\n\\n    ### Answer:',\n",
              " 'answer': '아쉬운점 1 질문의 요구사항에 맞지 않은 시작이고 내용도 그다지 호감을 주지 못하고 있습니다. 본 항목은 성장과정을 쓰는 항목입니다. 그리고 그 내용 중에 자신에게 가장 큰 영향을 끼친 사건, 인물이 포함되어야 합니다. 그런데, 이 내용은 이 두가지 모두에 해당되는 내용이 아닙니다. 대학시절 경험을 쓰는 것이 문제가 아니라 질문에서 요구한 사항을 쓰지 않았다는 것이 문제입니다. 이 내용을 활용하고 싶다면 이 내용 앞에 성장과정에 대한 내용을 제시해야 합니다.\\n좋은점 1 공신력 있는 수상 경험을 활용한 점이 좋습니다.\\n아쉬운점 2 내용이 구구절절 합니다. 이 사례를 이렇게 길게 쓸 필요가 없습니다. 핵심 위주로 내용을 정리하고 어떤 지식과 능력을 배웠는지를 간략하게 제시하고 마무리를 하면 됩니다. 그리고 나머지는 다른 사례를 제시하며 지원자의 창의력 문제해결능력에 공감을 가질 수 있게 해야 합니다.'}"
            ]
          },
          "execution_count": 209,
          "metadata": {},
          "output_type": "execute_result"
        }
      ],
      "source": [
        "dataset[1]"
      ]
    },
    {
      "cell_type": "code",
      "execution_count": null,
      "id": "bcff7991-a2b4-49bb-aafa-dcc08c034012",
      "metadata": {
        "tags": [],
        "id": "bcff7991-a2b4-49bb-aafa-dcc08c034012",
        "outputId": "c405ae6d-919e-4c43-88f0-32ce0d638a02"
      },
      "outputs": [
        {
          "name": "stdout",
          "output_type": "stream",
          "text": [
            "{'question': '### Question:\\n    아래 품질관리자의 자기 소개서에 대해 평가해주세요.\\n\\n    삼성전자를 지원한 이유와 입사 후 회사에서 이루고 싶은 꿈을 기술하십시오.\\n    \\n    \"차세대 예지 보전 설비기술 도입\"\\n\\n21살 때, 삼성전자 화성캠퍼스 신설 현장에서 일하며 반도체 설비에 관한 관심을 키우게 되었습니다. 당시, 공장 내부 가스관 설치 현장에서 배관 시공을 간접적으로 경험하며 설비 유지 보수에 관심을 키우게 되었습니다. 아무리 완벽한 반도체 이론이 있더라도 원활한 설비 공급 없이는 제품을 구현할 수 없다는 점을 느꼈습니다. 삼성전자 반도체 연구소는 세계 최고의 기술을 연구하여 글로벌 메모리 반도체 1위 자리를 30년간 지켜내고 있습니다. 이런 설비기술의 선구자인 삼성전자에서 차세대 예지 보전 설비관리 특허보유라는 꿈을 이루고 싶습니다.좋은점 1\\n\\n먼저, 반도체 제조의 핵심인 단위공정 설비팀에서 근무하며 경험을 쌓고 싶습니다. 특히, 열역학적 지식이 필요한 산화 및 증착 공정 설비기술팀에서 근무하며 세계 최고의 전문가들로부터 설비 지식을 배우겠습니다. 또한, 삼성전자의 직무 심화 양성프로그램을 활용하여 설비 전문가로 성장하겠습니다. 이후 항상 현장에 관심을 두고 문제점을 파헤쳐 유지관리 프로세스를 개선하기 위해 노력하겠습니다. 특히, 차세대 예지 보전 기술도입을 통해 유지비용을 절감하고 예지 보전 분야 특허 확보를 위해 노력하겠습니다. 세계 유일 종합반도체 연구소의 선행개발 엔지니어라는 자부심을 쌓고 최첨단 설비 전문가로 성장하여 종합 반도체 부분 세계 1위 목표를 함께 이루고 싶습니다.좋은점 2\\n\\n\\n    ### Answer:', 'answer': '좋은점 1 어떻게 이 회사에서 일을 하게 되었는지에 대한 구체적인 설명은 없지만 지원 회사에서 일을 하면서 느낀 점과 그 내용을 바탕으로 지원동기를 작성한 점이 좋습니다.\\n좋은점 2 이루고 싶은 꿈을 구체적으로 제시한 점이 좋고 지원동기에 일관되어 있다는 점도 좋습니다.'}\n"
          ]
        }
      ],
      "source": [
        "from pprint import pprint\n",
        "print(dataset[0])"
      ]
    },
    {
      "cell_type": "code",
      "execution_count": null,
      "id": "c9134090-00c4-4399-a94b-b2e79d6d7efe",
      "metadata": {
        "id": "c9134090-00c4-4399-a94b-b2e79d6d7efe"
      },
      "outputs": [],
      "source": []
    }
  ],
  "metadata": {
    "kernelspec": {
      "display_name": "Python 3 (ipykernel)",
      "language": "python",
      "name": "python3"
    },
    "language_info": {
      "codemirror_mode": {
        "name": "ipython",
        "version": 3
      },
      "file_extension": ".py",
      "mimetype": "text/x-python",
      "name": "python",
      "nbconvert_exporter": "python",
      "pygments_lexer": "ipython3",
      "version": "3.8.18"
    },
    "colab": {
      "provenance": [],
      "include_colab_link": true
    }
  },
  "nbformat": 4,
  "nbformat_minor": 5
}